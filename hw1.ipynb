{
 "cells": [
  {
   "cell_type": "markdown",
   "metadata": {
    "id": "sSos7q2_oBGj"
   },
   "source": [
    "## Problem 1"
   ]
  },
  {
   "cell_type": "markdown",
   "metadata": {
    "id": "NiX8ePp0oBGk"
   },
   "source": [
    "Make a tuple containing natural numbers, the square of which is a multiple of 3, 4, but not a multiple of 8 and not exceeding 12345."
   ]
  },
  {
   "cell_type": "code",
   "execution_count": 14,
   "metadata": {
    "id": "XmPHEnS9oBGk"
   },
   "outputs": [
    {
     "name": "stdout",
     "output_type": "stream",
     "text": [
      "(6, 18, 30, 42, 54, 66, 78, 90, 102)\n"
     ]
    }
   ],
   "source": [
    "numbers = tuple( # directly checking each number up to ~= sqrt(12345)\n",
    "    n for n in range(1, 112)\n",
    "    if ((n**2 % 3 == 0) and (n**2 % 4 == 0)) \n",
    "       and (n**2 % 8 != 0)                  \n",
    "       and (n**2 <= 12345) \n",
    ")\n",
    "\n",
    "print(numbers)"
   ]
  },
  {
   "cell_type": "markdown",
   "metadata": {
    "id": "OZBeUyxcoBGk"
   },
   "source": [
    "## Problem 2"
   ]
  },
  {
   "cell_type": "markdown",
   "metadata": {
    "id": "zIfvg22noBGk"
   },
   "source": [
    "\n",
    "Write a function that takes a two-dimensional array and a string as input and returns an array rotated 90 degrees counterclockwise if the string 'left' was passed, and clockwise if the string 'right' was passed.\n",
    "\n",
    "Example for input: $\\begin{bmatrix} 1 & 2 & 3 \\\\ 4 & 5 & 6 \\\\ 7 & 8 & 9 \\end{bmatrix}$.\\\n",
    "If the string 'left' is passed, the function should return $\\begin{bmatrix} 3 & 6 & 9 \\\\ 2 & 5 & 8 \\\\ 1 & 4 & 7 \\end{bmatrix}$, and if the string 'right' is passed, the function should return $\\begin{bmatrix} 7 & 4 & 1 \\\\ 8 & 5 & 2 \\\\ 9 & 6 & 3 \\end{bmatrix}$."
   ]
  },
  {
   "cell_type": "code",
   "execution_count": 15,
   "metadata": {
    "id": "HNvy_cRjoBGk"
   },
   "outputs": [
    {
     "name": "stdout",
     "output_type": "stream",
     "text": [
      "[[3, 6, 9], [2, 5, 8], [1, 4, 7]]\n",
      "[[7, 4, 1], [8, 5, 2], [9, 6, 3]]\n"
     ]
    }
   ],
   "source": [
    "# we can rotate a matrix by 90 degreees to the left by reversing each row and transposing the matrix\n",
    "# similarly, we can rotate a matrix by 90 degrees to the right by transposing the matrix and reversing each row\n",
    "# to do the transpose, we can use zip() function which takes multiple iterables and returns a tuple of tuples where each tuple contains one element from each iterable\n",
    "\n",
    "def rotate(arr, direction):\n",
    "    if not arr:\n",
    "        return []\n",
    "    \n",
    "    if direction == 'left':\n",
    "        # Reverse each row and transpose\n",
    "        reversed_rows = [row[::-1] for row in arr]\n",
    "        transposed = list(zip(*reversed_rows))\n",
    "        return [list(row) for row in transposed]\n",
    "    elif direction == 'right':\n",
    "        # Transpose and reverse each row\n",
    "        transposed = list(zip(*arr))\n",
    "        reversed_rows = [row[::-1] for row in transposed]\n",
    "        return [list(row) for row in reversed_rows]\n",
    "    else:\n",
    "        return []\n",
    "    \n",
    "print(rotate([[1, 2, 3], [4, 5, 6], [7, 8, 9]], 'left'))\n",
    "print(rotate([[1, 2, 3], [4, 5, 6], [7, 8, 9]], 'right'))"
   ]
  },
  {
   "cell_type": "markdown",
   "metadata": {
    "id": "_dY-PFlCoBGk"
   },
   "source": [
    "## Problem 3"
   ]
  },
  {
   "cell_type": "markdown",
   "metadata": {
    "id": "3CaIwcm0oBGk"
   },
   "source": [
    "Write a function that takes a string as input and returns a dictionary containing the number of occurrences of each character in the string.\n",
    "\n",
    "Example for the string 'hello, world!': {'h': 1, 'e': 1, 'l': 3, 'o': 2, ',': 1, ' ': 1, 'w': 1, 'r': 1, 'd': 1, '!': 1}."
   ]
  },
  {
   "cell_type": "code",
   "execution_count": 16,
   "metadata": {
    "id": "rlSbHusZoBGk"
   },
   "outputs": [
    {
     "name": "stdout",
     "output_type": "stream",
     "text": [
      "{'h': 1, 'e': 1, 'l': 3, 'o': 2, ',': 1, ' ': 1, 'w': 1, 'r': 1, 'd': 1, '!': 1}\n"
     ]
    }
   ],
   "source": [
    "def character_count(input_string):\n",
    "    char_dict = {}\n",
    "    for char in input_string:\n",
    "        if char in char_dict:\n",
    "            char_dict[char] += 1\n",
    "        else:\n",
    "            char_dict[char] = 1\n",
    "    return char_dict\n",
    "\n",
    "test_str = \"hello, world!\"\n",
    "result = character_count(test_str)\n",
    "print(result)"
   ]
  },
  {
   "cell_type": "markdown",
   "metadata": {
    "id": "KBGJ7PeboBGk"
   },
   "source": [
    "## Problem 4"
   ]
  },
  {
   "cell_type": "markdown",
   "metadata": {
    "id": "XS4Seqa9oBGk"
   },
   "source": [
    "### Implementing a Library Management System\n",
    "\n",
    "#### Description\n",
    "\n",
    "You are required to design and implement a system for managing books and users in a library. The system should allow for the management of books (adding, deleting, searching by various criteria) and users (registration, deletion, searching), as well as tracking the history of interactions between them (issuing and returning books).\n",
    "\n",
    "#### Tasks\n",
    "\n",
    "1. **`Book` Class**:\n",
    "   - Attributes: title, author, year of publication, ISBN, number of copies.\n",
    "   - Methods: constructor, methods to get information about the book, method to change the number of copies (when issuing and returning books).\n",
    "\n",
    "2. **`User` Class**:\n",
    "   - Attributes: user name, library card number, list of borrowed books.\n",
    "   - Methods: constructor, methods for user registration, methods for adding and removing books from the borrowed list.\n",
    "\n",
    "3. **`Library` Class**:\n",
    "   - Attributes: list of books, list of users, transaction history (who, when, which book was borrowed and returned).\n",
    "   - Methods: constructor, methods for adding and deleting books and users, methods for issuing and returning books, searching for books and users by various criteria, method to display the transaction history.\n",
    "\n",
    "#### Assignment\n",
    "\n",
    "1. Implement the `Book`, `User`, and `Library` classes with the specified attributes and methods.\n",
    "2. Create several books and users, and add them to the library system.\n",
    "3. Implement scenarios for issuing books to users and their return.\n",
    "4. Display the transaction history to show how books were issued and returned.\n"
   ]
  },
  {
   "cell_type": "code",
   "execution_count": 17,
   "metadata": {
    "id": "IbqwtWWsoBGl"
   },
   "outputs": [
    {
     "name": "stdout",
     "output_type": "stream",
     "text": [
      "Library Books:\n",
      "Title: Test1, Author: Author A, Year: 2025, ISBN: ISBN-12345, Copies: 2\n",
      "Title: Test2, Author: Author b, Year: 2024, ISBN: ISBN-67890, Copies: 1\n",
      "Title: Test3, Author: Author c, Year: 2023, ISBN: ISBN-11111, Copies: 1\n",
      "\n",
      "Alice's Borrowed Books: ['Title: Test1, Author: Author A, Year: 2025, ISBN: ISBN-12345, Copies: 2']\n",
      "Bob's Borrowed Books: ['Title: Test2, Author: Author b, Year: 2024, ISBN: ISBN-67890, Copies: 1']\n",
      "\n",
      "Transaction History:\n",
      "Issued 'Test1' (ISBN: ISBN-12345) to User 1 (ID: 1).\n",
      "Issued 'Test2' (ISBN: ISBN-67890) to User 2 (ID: 2).\n",
      "Returned 'Test1' (ISBN: ISBN-12345) from User 1 (ID: 1).\n"
     ]
    }
   ],
   "source": [
    "class Book:\n",
    "    def __init__(self, title, author, year, isbn, copies=1):\n",
    "        self.title = title\n",
    "        self.author = author\n",
    "        self.year = year\n",
    "        self.isbn = isbn\n",
    "        self.copies = copies\n",
    "    \n",
    "    def get_info(self):\n",
    "        return (f\"Title: {self.title}, Author: {self.author}, Year: {self.year}, \"\n",
    "                f\"ISBN: {self.isbn}, Copies: {self.copies}\")\n",
    "    \n",
    "    def update_copies(self, count_delta):\n",
    "        self.copies += count_delta\n",
    "        if self.copies < 0:\n",
    "            self.copies = 0\n",
    "\n",
    "\n",
    "class User:\n",
    "    def __init__(self, name, user_id):\n",
    "        self.name = name\n",
    "        self.user_id = user_id\n",
    "        self.borrowed_books = []  # list of Book objects\n",
    "    \n",
    "    def borrow_book(self, book):\n",
    "        self.borrowed_books.append(book)\n",
    "    \n",
    "    def return_book(self, book):\n",
    "        if book in self.borrowed_books:\n",
    "            self.borrowed_books.remove(book)\n",
    "    \n",
    "    def get_borrowed_books(self):\n",
    "        return [book.get_info() for book in self.borrowed_books]\n",
    "\n",
    "\n",
    "class Library:\n",
    "    def __init__(self):\n",
    "        self.books = []        \n",
    "        self.users = []        \n",
    "        self.transactions = []\n",
    "    \n",
    "    def add_book(self, book):\n",
    "        for existing_book in self.books:\n",
    "            if existing_book.isbn == book.isbn:\n",
    "                existing_book.update_copies(book.copies)\n",
    "                return\n",
    "        self.books.append(book)\n",
    "    \n",
    "    def remove_book(self, isbn):\n",
    "        for b in self.books:\n",
    "            if b.isbn == isbn:\n",
    "                self.books.remove(b)\n",
    "                break\n",
    "    \n",
    "    def add_user(self, user):\n",
    "        self.users.append(user)\n",
    "    \n",
    "    def remove_user(self, user_id):\n",
    "        for u in self.users:\n",
    "            if u.user_id == user_id:\n",
    "                self.users.remove(u)\n",
    "                break\n",
    "    \n",
    "    def issue_book(self, user_id, isbn):\n",
    "        user = self.search_user(user_id=user_id)\n",
    "        book = self.search_book(isbn=isbn)\n",
    "        \n",
    "        if user and book and book.copies > 0:\n",
    "            user.borrow_book(book)\n",
    "            book.update_copies(-1)\n",
    "            self.transactions.append(\n",
    "                f\"Issued '{book.title}' (ISBN: {isbn}) to {user.name} (ID: {user.user_id}).\"\n",
    "            )\n",
    "            return True\n",
    "        return False\n",
    "    \n",
    "    def return_book(self, user_id, isbn):\n",
    "        user = self.search_user(user_id=user_id)\n",
    "        if not user:\n",
    "            return False\n",
    "        \n",
    "        for b in user.borrowed_books:\n",
    "            if b.isbn == isbn:\n",
    "                user.return_book(b)\n",
    "                b.update_copies(1)\n",
    "                self.transactions.append(\n",
    "                    f\"Returned '{b.title}' (ISBN: {isbn}) from {user.name} (ID: {user.user_id}).\"\n",
    "                )\n",
    "                return True\n",
    "        return False\n",
    "    \n",
    "    def search_book(self, title=None, author=None, isbn=None):\n",
    "        if isbn:\n",
    "            for b in self.books:\n",
    "                if b.isbn == isbn:\n",
    "                    return b\n",
    "            return None\n",
    "        else:\n",
    "            results = []\n",
    "            for b in self.books:\n",
    "                if (title and title.lower() in b.title.lower()) or \\\n",
    "                   (author and author.lower() in b.author.lower()):\n",
    "                    results.append(b)\n",
    "            return results\n",
    "    \n",
    "    def search_user(self, name=None, user_id=None):\n",
    "        if user_id is not None:\n",
    "            for u in self.users:\n",
    "                if u.user_id == user_id:\n",
    "                    return u\n",
    "            return None\n",
    "        elif name is not None:\n",
    "            for u in self.users:\n",
    "                if name.lower() in u.name.lower():\n",
    "                    return u\n",
    "            return None\n",
    "        return None\n",
    "    \n",
    "    def display_all_books(self):\n",
    "        if not self.books:\n",
    "            print(\"No books in the library.\")\n",
    "        for b in self.books:\n",
    "            print(b.get_info())\n",
    "    \n",
    "    def display_transactions(self):\n",
    "        if not self.transactions:\n",
    "            print(\"No transactions yet.\")\n",
    "        for t in self.transactions:\n",
    "            print(t)\n",
    "\n",
    "\n",
    "\n",
    "# Create a Library\n",
    "library = Library()\n",
    "\n",
    "# Create some Book objects\n",
    "book1 = Book(\"Test1\", \"Author A\", 2025, \"ISBN-12345\", 3)\n",
    "book2 = Book(\"Test2\", \"Author b\", 2024, \"ISBN-67890\", 2)\n",
    "book3 = Book(\"Test3\", \"Author c\", 2023, \"ISBN-11111\", 1)\n",
    "\n",
    "# Add books to the library\n",
    "library.add_book(book1)\n",
    "library.add_book(book2)\n",
    "library.add_book(book3)\n",
    "\n",
    "# Create some User objects\n",
    "user1 = User(\"User 1\", 1)\n",
    "user2 = User(\"User 2\", 2)\n",
    "\n",
    "# Add users to the library\n",
    "library.add_user(user1)\n",
    "library.add_user(user2)\n",
    "\n",
    "# Issue books\n",
    "library.issue_book(user_id=1, isbn=\"ISBN-12345\")\n",
    "library.issue_book(user_id=2, isbn=\"ISBN-67890\")\n",
    "\n",
    "# Display current library holdings\n",
    "print(\"Library Books:\")\n",
    "library.display_all_books()\n",
    "print()\n",
    "\n",
    "# Display each user's borrowed books\n",
    "print(\"Alice's Borrowed Books:\", user1.get_borrowed_books())\n",
    "print(\"Bob's Borrowed Books:\", user2.get_borrowed_books())\n",
    "print()\n",
    "\n",
    "library.return_book(user_id=1, isbn=\"ISBN-12345\")\n",
    "\n",
    "# Display transaction history\n",
    "print(\"Transaction History:\")\n",
    "library.display_transactions()\n"
   ]
  },
  {
   "cell_type": "markdown",
   "metadata": {
    "id": "0c8zRbSIoBGl"
   },
   "source": [
    "## Problem 5*"
   ]
  },
  {
   "cell_type": "markdown",
   "metadata": {
    "id": "8ltdzRmOoBGl"
   },
   "source": [
    "Explain why list `b` changes after the execution of the following code:\n",
    "\n",
    "```python\n",
    "a = [1, 2, 3]\n",
    "b = a\n",
    "a[0] = 4\n",
    "print(b)\n",
    "```"
   ]
  },
  {
   "cell_type": "markdown",
   "metadata": {
    "id": "RxgnUfFPoBGl"
   },
   "source": [
    "> Write your answer in markdown cell after:"
   ]
  },
  {
   "cell_type": "markdown",
   "metadata": {
    "id": "Mb-amOX5oBGl"
   },
   "source": [
    "when we do b = a, we actually make a and b contain the same pointer in the memeory. Python lists work kinda like C-styled arrays. So in C when we do\n",
    "\n",
    "int* a = some_pointer\n",
    "int* b = a\n",
    "\n",
    "and later do\n",
    "\n",
    "b[0] = smth\n",
    "\n",
    "then we actually change the value that lies at some_pointer address in the memory. The same is done in python, because a and b reference the same list in the memory. To avoid this we can use methods like .copy()"
   ]
  },
  {
   "cell_type": "markdown",
   "metadata": {
    "id": "TmXLkc_foBGl"
   },
   "source": [
    "## Problem 6*"
   ]
  },
  {
   "cell_type": "markdown",
   "metadata": {
    "id": "Gn0ibiVCoBGl"
   },
   "source": [
    "Let\n",
    "$$A = \\sum_{i=1}^{10000} \\frac{1}{i^2},\\quad B=\\sum_{i=10000}^{1} \\frac{1}{i^2}.$$\n",
    "Calculate the values of $A$ and $B$ and compare them. What do you observe? Explain why this happens. What is the best way to calculate the value of $\\sum\\limits_{i=1}^{10000} \\dfrac{1}{i^2}$?"
   ]
  },
  {
   "cell_type": "code",
   "execution_count": 7,
   "metadata": {
    "id": "3q93uGqFoBGl"
   },
   "outputs": [
    {
     "name": "stdout",
     "output_type": "stream",
     "text": [
      "A = 1.6448340718480652\n",
      "B = 1.6448340718480596\n",
      "Difference =  5.551115123125783e-15\n"
     ]
    }
   ],
   "source": [
    "A = 0.0\n",
    "for i in range(1, 10001):\n",
    "    A += 1.0 / (i**2)\n",
    "\n",
    "# Calculate B by summing i from 10,000 down to 1\n",
    "B = 0.0\n",
    "for i in range(10000, 0, -1):\n",
    "    B += 1.0 / (i**2)\n",
    "\n",
    "print(\"A =\", A)\n",
    "print(\"B =\", B)\n",
    "print(\"Difference = \", (A - B))"
   ]
  },
  {
   "cell_type": "markdown",
   "metadata": {},
   "source": [
    "We observe that A is greater than B. Floating-point arithmetic has limited precision because of the internal representation of floats in the memory. When you add a very small number to a relatively large partial sum the computer might actually round up the small number to zero, because of said internal structure. Thus adding small values first is the better apporach."
   ]
  },
  {
   "cell_type": "markdown",
   "metadata": {},
   "source": [
    "Here's the demonstration of the \"rounding up\" that occurs with floats"
   ]
  },
  {
   "cell_type": "code",
   "execution_count": 6,
   "metadata": {},
   "outputs": [
    {
     "name": "stdout",
     "output_type": "stream",
     "text": [
      "True\n"
     ]
    }
   ],
   "source": [
    "print(1e20 + 1e-20 == 1e20) # It should be false, but is true, just because of rounding errors"
   ]
  }
 ],
 "metadata": {
  "colab": {
   "provenance": []
  },
  "kernelspec": {
   "display_name": "Python 3",
   "language": "python",
   "name": "python3"
  },
  "language_info": {
   "codemirror_mode": {
    "name": "ipython",
    "version": 3
   },
   "file_extension": ".py",
   "mimetype": "text/x-python",
   "name": "python",
   "nbconvert_exporter": "python",
   "pygments_lexer": "ipython3",
   "version": "3.12.3"
  }
 },
 "nbformat": 4,
 "nbformat_minor": 0
}
